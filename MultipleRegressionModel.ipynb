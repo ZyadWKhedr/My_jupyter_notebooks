{
 "cells": [
  {
   "cell_type": "code",
   "execution_count": 1,
   "id": "37e14f17",
   "metadata": {},
   "outputs": [],
   "source": [
    "import numpy as np\n",
    "import pandas as pd\n",
    "import matplotlib.pyplot as plt\n",
    "import scipy.stats as stats"
   ]
  },
  {
   "cell_type": "code",
   "execution_count": 2,
   "id": "b521f3dd",
   "metadata": {},
   "outputs": [],
   "source": [
    "class MultipleLinearRegression:\n",
    "    def __init__(self, learning_rate=0.001, n_iterations=2000):\n",
    "        self.coefficients = None  # Store model coefficients (intercept + slopes)\n",
    "        self.MSE = None  # Store Mean Squared Error\n",
    "        self.r_squared = None  # Store R-squared\n",
    "        self.learning_rate = learning_rate\n",
    "        self.n_iterations = n_iterations\n",
    "        self.loss_history = []  # To track loss during training\n",
    "        \n",
    "        # Statistical properties\n",
    "        self.df_error = None\n",
    "        self.df_regression = None\n",
    "        self.SSE = None\n",
    "        self.SSR = None\n",
    "        self.SST = None\n",
    "        self.F_stat = None\n",
    "\n",
    "    def fit(self, X, y):\n",
    "        X = np.array(X)\n",
    "        y = np.array(y)\n",
    "        self.X = X\n",
    "        self.y = y\n",
    "\n",
    "        n_samples, n_features = X.shape\n",
    "        X_b = np.hstack([np.ones((n_samples, 1)), X])  # Add column of 1s\n",
    "\n",
    "        # Initialize coefficients (including intercept)\n",
    "        self.coefficients = np.zeros(X_b.shape[1])\n",
    "\n",
    "        # Gradient Descent\n",
    "        for _ in range(self.n_iterations):\n",
    "            y_pred = X_b @ self.coefficients\n",
    "            residuals = y - y_pred\n",
    "\n",
    "            gradient = -2 * X_b.T @ residuals / n_samples\n",
    "            self.coefficients -= self.learning_rate * gradient\n",
    "\n",
    "            self.loss_history.append(np.mean(residuals**2))\n",
    "\n",
    "        # Calculate final predictions and metrics\n",
    "        y_pred = X_b @ self.coefficients\n",
    "        residuals = y - y_pred\n",
    "\n",
    "        self.SSE = np.sum(residuals**2)\n",
    "        self.MSE = self.SSE / (n_samples - n_features - 1)\n",
    "\n",
    "        y_bar = np.mean(y)\n",
    "        self.SST = np.sum((y - y_bar)**2)\n",
    "        self.SSR = np.sum((y_pred - y_bar)**2)\n",
    "\n",
    "        self.r_squared = self.SSR / self.SST\n",
    "\n",
    "        self.df_regression = n_features\n",
    "        self.df_error = n_samples - n_features - 1\n",
    "\n",
    "\n",
    "\n",
    "    def predict(self, X):\n",
    "        if self.coefficients is None:\n",
    "            raise ValueError(\"Model not fitted yet. Call fit() first.\")\n",
    "        X = np.array(X)\n",
    "        X_b = np.hstack([np.ones((X.shape[0], 1)), X])\n",
    "        return X_b @ self.coefficients\n",
    "    \n",
    "    def plot(self,X,y):\n",
    "        if self.coefficients is None:\n",
    "            raise ValueError(\"The model has not been fitted yet.\")\n",
    "        \n",
    "        # Ensure X and y are numpy arrays\n",
    "        X = np.array(X)\n",
    "        y = np.array(y)\n",
    "        \n",
    "        # Create a 3D plot\n",
    "        fig = plt.figure()\n",
    "        ax = fig.add_subplot(111, projection='3d')\n",
    "        \n",
    "        # Scatter plot for actual data points\n",
    "        ax.scatter(X[:, 0], X[:, 1], y, color='blue', label='Data points')\n",
    "        \n",
    "        # Plotting the regression plane\n",
    "        x_range = np.linspace(X[:, 0].min(), X[:, 0].max(), 10)\n",
    "        y_range = np.linspace(X[:, 1].min(), X[:, 1].max(), 10)\n",
    "        X1, Y1 = np.meshgrid(x_range, y_range)\n",
    "        Z1 = self.coefficients[0] + self.coefficients[1] * X1 + self.coefficients[2] * Y1\n",
    "        ax.plot_surface(X1, Y1, Z1, color='red', alpha=0.5)\n",
    "        \n",
    "        ax.set_xlabel('X1')\n",
    "        ax.set_ylabel('X2')\n",
    "        ax.set_zlabel('y')\n",
    "        ax.set_title('Multiple Linear Regression (3D)')\n",
    "        plt.show()\n",
    "\n",
    "    def anova_table(self):\n",
    "        if self.coefficients is None:\n",
    "            raise ValueError(\"The model has not been fitted yet.\")\n",
    "        \n",
    "        # Degrees of freedom\n",
    "        self.df_regression = len(self.coefficients) - 1  # Exclude intercept\n",
    "        self.df_error = len(self.X) - len(self.coefficients)  # Residuals degrees of freedom\n",
    "        df_total = len(self.X) - 1\n",
    "        \n",
    "        # Mean squares\n",
    "        MSR = self.SSR / self.df_regression\n",
    "        MSE = self.SSE / self.df_error\n",
    "        \n",
    "        # F-statistic\n",
    "        self.F_stat = MSR / MSE\n",
    "        \n",
    "        # Assemble the ANOVA table\n",
    "        anova_data = {\n",
    "            'Source': ['Regression', 'Error', 'Total'],\n",
    "            'Sum of Squares': [self.SSR, self.SSE, self.SST],\n",
    "            'Degrees of Freedom': [self.df_regression, self.df_error, df_total],\n",
    "            'Mean Square': [MSR, MSE, \"\"],\n",
    "            'F-Statistic': [self.F_stat, \"\", \"\"]\n",
    "        }\n",
    "        \n",
    "        return pd.DataFrame(anova_data)\n",
    "    \n",
    "    def hypothesis_test(self, alpha=0.05):\n",
    "        \"\"\"\n",
    "        Perform a hypothesis test based on the F-statistic.\n",
    "        \n",
    "        alpha : float\n",
    "            The significance level for the test.\n",
    "        \n",
    "        Prints the hypothesis test result.\n",
    "        \"\"\"\n",
    "        # Critical value for the given significance level\n",
    "        F_c = stats.f.ppf(1 - alpha, self.df_regression, self.df_error)\n",
    "        \n",
    "        # Conclusion based on F-statistic\n",
    "        if self.F_stat > F_c:\n",
    "            conclusion = \"Reject the null hypothesis. There is a relationship between the features and the target.\"\n",
    "        else:\n",
    "            conclusion = \"Fail to reject the null hypothesis. No significant relationship.\"\n",
    "        \n",
    "        print(f\"F-statistic: {self.F_stat:.3f}\")\n",
    "        print(f\"Critical value: {F_c:.3f}\")\n",
    "        print(f\"Conclusion: {conclusion}\")\n",
    "\n",
    "    def interval_estimation(self, alpha=0.05, sigma=None):\n",
    "        \"\"\"\n",
    "        Perform interval estimation for the coefficients.\n",
    "        \n",
    "        alpha : float\n",
    "            The significance level for the test.\n",
    "        sigma : float\n",
    "            The standard deviation of the residuals (if available).\n",
    "        \n",
    "        Returns:\n",
    "        -------\n",
    "        intervals : pd.DataFrame\n",
    "            DataFrame with lower and upper bounds for each coefficient.\n",
    "        \"\"\"\n",
    "        if sigma is None:\n",
    "            sigma = np.sqrt(self.MSE)\n",
    "        \n",
    "        # Calculate the standard errors of the coefficients\n",
    "        X_b = np.hstack([np.ones((self.X.shape[0], 1)), self.X])\n",
    "        var_beta = np.linalg.inv(X_b.T @ X_b) * self.MSE\n",
    "        \n",
    "        # t-value for confidence interval\n",
    "        t_val = stats.t.ppf(1 - alpha / 2, self.df_error)\n",
    "        \n",
    "        # Confidence intervals for each coefficient\n",
    "        intervals = []\n",
    "        for i, coef in enumerate(self.coefficients):\n",
    "            se = np.sqrt(var_beta[i, i])\n",
    "            margin_of_error = t_val * se\n",
    "            lower_bound = coef - margin_of_error\n",
    "            upper_bound = coef + margin_of_error\n",
    "            intervals.append([lower_bound, upper_bound])\n",
    "        \n",
    "        return pd.DataFrame(intervals, columns=['Lower Bound', 'Upper Bound'], index=['Intercept'] + [f'X{i}' for i in range(1, self.X.shape[1] + 1)])\n"
   ]
  },
  {
   "cell_type": "code",
   "execution_count": 3,
   "id": "a8f4474b",
   "metadata": {},
   "outputs": [
    {
     "data": {
      "text/html": [
       "<div>\n",
       "<style scoped>\n",
       "    .dataframe tbody tr th:only-of-type {\n",
       "        vertical-align: middle;\n",
       "    }\n",
       "\n",
       "    .dataframe tbody tr th {\n",
       "        vertical-align: top;\n",
       "    }\n",
       "\n",
       "    .dataframe thead th {\n",
       "        text-align: right;\n",
       "    }\n",
       "</style>\n",
       "<table border=\"1\" class=\"dataframe\">\n",
       "  <thead>\n",
       "    <tr style=\"text-align: right;\">\n",
       "      <th></th>\n",
       "      <th>Hours Studied</th>\n",
       "      <th>Previous Scores</th>\n",
       "      <th>Extracurricular Activities</th>\n",
       "      <th>Sleep Hours</th>\n",
       "      <th>Sample Question Papers Practiced</th>\n",
       "      <th>Performance Index</th>\n",
       "    </tr>\n",
       "  </thead>\n",
       "  <tbody>\n",
       "    <tr>\n",
       "      <th>0</th>\n",
       "      <td>7</td>\n",
       "      <td>99</td>\n",
       "      <td>Yes</td>\n",
       "      <td>9</td>\n",
       "      <td>1</td>\n",
       "      <td>91.0</td>\n",
       "    </tr>\n",
       "    <tr>\n",
       "      <th>1</th>\n",
       "      <td>4</td>\n",
       "      <td>82</td>\n",
       "      <td>No</td>\n",
       "      <td>4</td>\n",
       "      <td>2</td>\n",
       "      <td>65.0</td>\n",
       "    </tr>\n",
       "    <tr>\n",
       "      <th>2</th>\n",
       "      <td>8</td>\n",
       "      <td>51</td>\n",
       "      <td>Yes</td>\n",
       "      <td>7</td>\n",
       "      <td>2</td>\n",
       "      <td>45.0</td>\n",
       "    </tr>\n",
       "    <tr>\n",
       "      <th>3</th>\n",
       "      <td>5</td>\n",
       "      <td>52</td>\n",
       "      <td>Yes</td>\n",
       "      <td>5</td>\n",
       "      <td>2</td>\n",
       "      <td>36.0</td>\n",
       "    </tr>\n",
       "    <tr>\n",
       "      <th>4</th>\n",
       "      <td>7</td>\n",
       "      <td>75</td>\n",
       "      <td>No</td>\n",
       "      <td>8</td>\n",
       "      <td>5</td>\n",
       "      <td>66.0</td>\n",
       "    </tr>\n",
       "  </tbody>\n",
       "</table>\n",
       "</div>"
      ],
      "text/plain": [
       "   Hours Studied  Previous Scores Extracurricular Activities  Sleep Hours  \\\n",
       "0              7               99                        Yes            9   \n",
       "1              4               82                         No            4   \n",
       "2              8               51                        Yes            7   \n",
       "3              5               52                        Yes            5   \n",
       "4              7               75                         No            8   \n",
       "\n",
       "   Sample Question Papers Practiced  Performance Index  \n",
       "0                                 1               91.0  \n",
       "1                                 2               65.0  \n",
       "2                                 2               45.0  \n",
       "3                                 2               36.0  \n",
       "4                                 5               66.0  "
      ]
     },
     "execution_count": 3,
     "metadata": {},
     "output_type": "execute_result"
    }
   ],
   "source": [
    "df = pd.read_csv(\"D:/FCDS/Regression Analysis/Sections/DataSets/Student_Performance.csv\")\n",
    "df.head()"
   ]
  },
  {
   "cell_type": "code",
   "execution_count": 4,
   "id": "6c8f23ea",
   "metadata": {},
   "outputs": [
    {
     "data": {
      "text/plain": [
       "Hours Studied                       0\n",
       "Previous Scores                     0\n",
       "Extracurricular Activities          0\n",
       "Sleep Hours                         0\n",
       "Sample Question Papers Practiced    0\n",
       "Performance Index                   0\n",
       "dtype: int64"
      ]
     },
     "execution_count": 4,
     "metadata": {},
     "output_type": "execute_result"
    }
   ],
   "source": [
    "df.isnull().sum()"
   ]
  },
  {
   "cell_type": "code",
   "execution_count": 5,
   "id": "1434d310",
   "metadata": {},
   "outputs": [
    {
     "data": {
      "text/plain": [
       "0       False\n",
       "1       False\n",
       "2       False\n",
       "3       False\n",
       "4       False\n",
       "        ...  \n",
       "9995    False\n",
       "9996    False\n",
       "9997    False\n",
       "9998    False\n",
       "9999    False\n",
       "Length: 10000, dtype: bool"
      ]
     },
     "execution_count": 5,
     "metadata": {},
     "output_type": "execute_result"
    }
   ],
   "source": [
    "df.duplicated()"
   ]
  },
  {
   "cell_type": "code",
   "execution_count": 6,
   "id": "94806b61",
   "metadata": {},
   "outputs": [],
   "source": [
    "df['Extracurricular Activities'] = df['Extracurricular Activities'].map({'Yes': 1, 'No': 0})"
   ]
  },
  {
   "cell_type": "code",
   "execution_count": 7,
   "id": "56447fad",
   "metadata": {},
   "outputs": [
    {
     "data": {
      "text/html": [
       "<div>\n",
       "<style scoped>\n",
       "    .dataframe tbody tr th:only-of-type {\n",
       "        vertical-align: middle;\n",
       "    }\n",
       "\n",
       "    .dataframe tbody tr th {\n",
       "        vertical-align: top;\n",
       "    }\n",
       "\n",
       "    .dataframe thead th {\n",
       "        text-align: right;\n",
       "    }\n",
       "</style>\n",
       "<table border=\"1\" class=\"dataframe\">\n",
       "  <thead>\n",
       "    <tr style=\"text-align: right;\">\n",
       "      <th></th>\n",
       "      <th>Hours Studied</th>\n",
       "      <th>Previous Scores</th>\n",
       "      <th>Extracurricular Activities</th>\n",
       "      <th>Sleep Hours</th>\n",
       "      <th>Sample Question Papers Practiced</th>\n",
       "      <th>Performance Index</th>\n",
       "    </tr>\n",
       "  </thead>\n",
       "  <tbody>\n",
       "    <tr>\n",
       "      <th>0</th>\n",
       "      <td>7</td>\n",
       "      <td>99</td>\n",
       "      <td>1</td>\n",
       "      <td>9</td>\n",
       "      <td>1</td>\n",
       "      <td>91.0</td>\n",
       "    </tr>\n",
       "    <tr>\n",
       "      <th>1</th>\n",
       "      <td>4</td>\n",
       "      <td>82</td>\n",
       "      <td>0</td>\n",
       "      <td>4</td>\n",
       "      <td>2</td>\n",
       "      <td>65.0</td>\n",
       "    </tr>\n",
       "    <tr>\n",
       "      <th>2</th>\n",
       "      <td>8</td>\n",
       "      <td>51</td>\n",
       "      <td>1</td>\n",
       "      <td>7</td>\n",
       "      <td>2</td>\n",
       "      <td>45.0</td>\n",
       "    </tr>\n",
       "    <tr>\n",
       "      <th>3</th>\n",
       "      <td>5</td>\n",
       "      <td>52</td>\n",
       "      <td>1</td>\n",
       "      <td>5</td>\n",
       "      <td>2</td>\n",
       "      <td>36.0</td>\n",
       "    </tr>\n",
       "    <tr>\n",
       "      <th>4</th>\n",
       "      <td>7</td>\n",
       "      <td>75</td>\n",
       "      <td>0</td>\n",
       "      <td>8</td>\n",
       "      <td>5</td>\n",
       "      <td>66.0</td>\n",
       "    </tr>\n",
       "  </tbody>\n",
       "</table>\n",
       "</div>"
      ],
      "text/plain": [
       "   Hours Studied  Previous Scores  Extracurricular Activities  Sleep Hours  \\\n",
       "0              7               99                           1            9   \n",
       "1              4               82                           0            4   \n",
       "2              8               51                           1            7   \n",
       "3              5               52                           1            5   \n",
       "4              7               75                           0            8   \n",
       "\n",
       "   Sample Question Papers Practiced  Performance Index  \n",
       "0                                 1               91.0  \n",
       "1                                 2               65.0  \n",
       "2                                 2               45.0  \n",
       "3                                 2               36.0  \n",
       "4                                 5               66.0  "
      ]
     },
     "execution_count": 7,
     "metadata": {},
     "output_type": "execute_result"
    }
   ],
   "source": [
    "df.head()"
   ]
  },
  {
   "cell_type": "code",
   "execution_count": 8,
   "id": "1d69a513",
   "metadata": {},
   "outputs": [],
   "source": [
    "# Split the data into features (X) and target (y)\n",
    "X = df[['Hours Studied', 'Previous Scores', 'Extracurricular Activities', 'Sleep Hours', 'Sample Question Papers Practiced']]\n",
    "y = df['Performance Index']"
   ]
  },
  {
   "cell_type": "code",
   "execution_count": 9,
   "id": "b3647bba",
   "metadata": {},
   "outputs": [],
   "source": [
    "from sklearn.model_selection import train_test_split\n",
    "\n",
    "# Split the data (80% training, 20% testing)\n",
    "X_train, X_test, y_train, y_test = train_test_split(X, y, test_size=0.2, random_state=42)\n"
   ]
  },
  {
   "cell_type": "code",
   "execution_count": 10,
   "id": "0a20ff28",
   "metadata": {},
   "outputs": [],
   "source": [
    "X_train = X_train.to_numpy()\n",
    "X_test = X_test.to_numpy()\n",
    "y_train = y_train.to_numpy()\n",
    "y_test = y_test.to_numpy()"
   ]
  },
  {
   "cell_type": "code",
   "execution_count": 11,
   "id": "e878c0cb",
   "metadata": {},
   "outputs": [],
   "source": [
    "from sklearn.preprocessing import StandardScaler\n",
    "\n",
    "scaler = StandardScaler()\n",
    "X_train = scaler.fit_transform(X_train)\n",
    "X_test = scaler.transform(X_test)\n"
   ]
  },
  {
   "cell_type": "code",
   "execution_count": 12,
   "id": "36004fd9",
   "metadata": {},
   "outputs": [],
   "source": [
    "model = MultipleLinearRegression(learning_rate=0.001, n_iterations=10000) \n",
    "model.fit(X_train, y_train)"
   ]
  },
  {
   "cell_type": "code",
   "execution_count": 13,
   "id": "e0254133",
   "metadata": {},
   "outputs": [
    {
     "name": "stdout",
     "output_type": "stream",
     "text": [
      "Model Coefficients (intercept + slopes): [55.31149989  7.40134077 17.63727123  0.30429076  0.81003107  0.54884173]\n"
     ]
    }
   ],
   "source": [
    "print(f\"Model Coefficients (intercept + slopes): {model.coefficients}\")"
   ]
  },
  {
   "cell_type": "code",
   "execution_count": 14,
   "id": "b0649559",
   "metadata": {},
   "outputs": [
    {
     "name": "stdout",
     "output_type": "stream",
     "text": [
      "Predicted values: [54.71185379 22.61551293 47.90314462 ... 16.79341953 63.34327356\n",
      " 45.94262292]\n"
     ]
    }
   ],
   "source": [
    "y_pred = model.predict(X_test)\n",
    "print(f\"Predicted values: {y_pred}\")"
   ]
  },
  {
   "cell_type": "code",
   "execution_count": 15,
   "id": "f1493306",
   "metadata": {},
   "outputs": [
    {
     "name": "stdout",
     "output_type": "stream",
     "text": [
      "      Actual  Predicted\n",
      "0       51.0  54.711854\n",
      "1       20.0  22.615513\n",
      "2       46.0  47.903145\n",
      "3       28.0  31.289767\n",
      "4       41.0  43.004570\n",
      "...      ...        ...\n",
      "1995    45.0  46.886280\n",
      "1996    66.0  62.698025\n",
      "1997    16.0  16.793420\n",
      "1998    65.0  63.343274\n",
      "1999    47.0  45.942623\n",
      "\n",
      "[2000 rows x 2 columns]\n"
     ]
    }
   ],
   "source": [
    "comparison = pd.DataFrame({'Actual': y_test, 'Predicted': y_pred})\n",
    "print(comparison)"
   ]
  },
  {
   "cell_type": "code",
   "execution_count": 16,
   "id": "f6cd8ec3",
   "metadata": {},
   "outputs": [
    {
     "data": {
      "image/png": "[encoded data removed]",
      "text/plain": [
       "<Figure size 640x480 with 1 Axes>"
      ]
     },
     "metadata": {},
     "output_type": "display_data"
    }
   ],
   "source": [
    "model.plot(X, y)"
   ]
  },
  {
   "cell_type": "code",
   "execution_count": 17,
   "id": "663abf80",
   "metadata": {},
   "outputs": [
    {
     "name": "stdout",
     "output_type": "stream",
     "text": [
      "       Source  Sum of Squares  Degrees of Freedom    Mean Square  \\\n",
      "0  Regression    2.916026e+06                   5  583205.168202   \n",
      "1       Error    3.335789e+04                7994       4.172865   \n",
      "2       Total    2.949384e+06                7999                  \n",
      "\n",
      "     F-Statistic  \n",
      "0  139761.314711  \n",
      "1                 \n",
      "2                 \n"
     ]
    }
   ],
   "source": [
    "anova_table = model.anova_table()\n",
    "print(anova_table)"
   ]
  },
  {
   "cell_type": "code",
   "execution_count": 18,
   "id": "7209bfb2",
   "metadata": {},
   "outputs": [
    {
     "name": "stdout",
     "output_type": "stream",
     "text": [
      "F-statistic: 139761.315\n",
      "Critical value: 2.215\n",
      "Conclusion: Reject the null hypothesis. There is a relationship between the features and the target.\n"
     ]
    }
   ],
   "source": [
    "model.hypothesis_test(alpha=0.05)"
   ]
  },
  {
   "cell_type": "code",
   "execution_count": 19,
   "id": "d5022512",
   "metadata": {},
   "outputs": [
    {
     "name": "stdout",
     "output_type": "stream",
     "text": [
      "Confidence Intervals for Coefficients:\n",
      "           Lower Bound  Upper Bound\n",
      "Intercept    55.266730    55.356270\n",
      "X1            7.356562     7.446119\n",
      "X2           17.592496    17.682047\n",
      "X3            0.259511     0.349070\n",
      "X4            0.765251     0.854811\n",
      "X5            0.504065     0.593619\n"
     ]
    }
   ],
   "source": [
    "intervals = model.interval_estimation(alpha=0.05)\n",
    "print(\"Confidence Intervals for Coefficients:\")\n",
    "print(intervals)"
   ]
  },
  {
   "cell_type": "code",
   "execution_count": null,
   "id": "83da9e12",
   "metadata": {},
   "outputs": [],
   "source": []
  }
 ],
 "metadata": {
  "kernelspec": {
   "display_name": "Python 3",
   "language": "python",
   "name": "python3"
  },
  "language_info": {
   "codemirror_mode": {
    "name": "ipython",
    "version": 3
   },
   "file_extension": ".py",
   "mimetype": "text/x-python",
   "name": "python",
   "nbconvert_exporter": "python",
   "pygments_lexer": "ipython3",
   "version": "3.12.0"
  }
 },
 "nbformat": 4,
 "nbformat_minor": 5
}
