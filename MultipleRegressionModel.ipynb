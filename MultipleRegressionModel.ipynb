{
 "cells": [
  {
   "cell_type": "code",
   "execution_count": 50,
   "id": "37e14f17",
   "metadata": {},
   "outputs": [],
   "source": [
    "import numpy as np\n",
    "import pandas as pd\n",
    "import matplotlib.pyplot as plt"
   ]
  },
  {
   "cell_type": "code",
   "execution_count": null,
   "id": "b521f3dd",
   "metadata": {},
   "outputs": [],
   "source": [
    "class MultipleLinearRegression:\n",
    "    def __init__(self, learning_rate=0.001, n_iterations=2000):\n",
    "        self.coefficients = None  # Store model coefficients (intercept + slopes)\n",
    "        self.MSE = None  \n",
    "        self.r_squared = None \n",
    "        self.learning_rate = learning_rate\n",
    "        self.n_iterations = n_iterations\n",
    "        self.loss_history = []  # To track loss during training\n",
    "        \n",
    "        # Statistical properties\n",
    "        self.df_error = None # degree of freedom for error\n",
    "        self.df_regression = None #degree of freedom for regression\n",
    "        self.SSE = None\n",
    "        self.SSR = None\n",
    "        self.SST = None\n",
    "        self.F_stat = None\n",
    "\n",
    "    def fit(self, X, y):\n",
    "        X = np.array(X)\n",
    "        y = np.array(y)\n",
    "        self.X = X\n",
    "        self.y = y\n",
    "\n",
    "        n_samples, n_features = X.shape # as x.shape return rows (no. of samples) columns (no. of features) \n",
    "        X_b = np.hstack([np.ones((n_samples, 1)), X])  # Add column of 1s\n",
    "\n",
    "        # Initialize coefficients (B) (including intercept) \n",
    "        self.coefficients = np.zeros(X_b.shape[1])\n",
    "\n",
    "        # Gradient Descent\n",
    "        for _ in range(self.n_iterations):\n",
    "            y_pred = X_b @ self.coefficients\n",
    "            residuals = y - y_pred\n",
    "\n",
    "            gradient = -2 * X_b.T @ residuals / n_samples\n",
    "            self.coefficients -= self.learning_rate * gradient\n",
    "\n",
    "            self.loss_history.append(np.mean(residuals**2)) # Tracks how well the model is doing at each step.\n",
    "\n",
    "        # Calculate final predictions and metrics\n",
    "        y_pred = X_b @ self.coefficients\n",
    "        residuals = y - y_pred\n",
    "\n",
    "        self.SSE = np.sum(residuals**2)\n",
    "        self.MSE = self.SSE / (n_samples - n_features - 1) # n-p \n",
    "\n",
    "        y_bar = np.mean(y)\n",
    "        self.SST = np.sum((y - y_bar)**2)\n",
    "        self.SSR = np.sum((y_pred - y_bar)**2)\n",
    "\n",
    "        # R-squared (goodness of fit)\n",
    "        self.r_squared = self.SSR / self.SST \n",
    "\n",
    "        self.df_regression = n_features\n",
    "        self.df_error = n_samples - n_features - 1\n",
    "\n",
    "\n",
    "\n",
    "    def predict(self, X):\n",
    "\n",
    "         # Check if model is fitted\n",
    "        if self.coefficients is None:\n",
    "            raise ValueError(\"Model not fitted yet. Call fit() first\")\n",
    "        X = np.array(X)\n",
    "        X_b = np.hstack([np.ones((X.shape[0], 1)), X])\n",
    "        return X_b @ self.coefficients\n",
    "    \n",
    "    def plot(self,X,y):\n",
    "\n",
    "        # Check if model is trained\n",
    "        if self.coefficients is None:\n",
    "            raise ValueError(\"The model has not been fitted yet\")\n",
    "        \n",
    "        # Ensure X and y are numpy arrays\n",
    "        X = np.array(X)\n",
    "        y = np.array(y)\n",
    "        \n",
    "        # Create a 3D plot\n",
    "        fig = plt.figure()\n",
    "        ax = fig.add_subplot(111, projection='3d')\n",
    "        \n",
    "        # Scatter plot for actual data points\n",
    "        ax.scatter(X[:, 0], X[:, 1], y, color='blue', label='Data points')\n",
    "        \n",
    "        # Plotting the regression plane\n",
    "        x_range = np.linspace(X[:, 0].min(), X[:, 0].max(), 10)\n",
    "        y_range = np.linspace(X[:, 1].min(), X[:, 1].max(), 10)\n",
    "        X1, Y1 = np.meshgrid(x_range, y_range)\n",
    "        Z1 = self.coefficients[0] + self.coefficients[1] * X1 + self.coefficients[2] * Y1\n",
    "        ax.plot_surface(X1, Y1, Z1, color='red', alpha=0.5)\n",
    "        \n",
    "        ax.set_xlabel('X1')\n",
    "        ax.set_ylabel('X2')\n",
    "        ax.set_zlabel('y')\n",
    "        ax.set_title('Multiple Linear Regression (3D)')\n",
    "        plt.show()\n",
    "\n",
    "    def anova_table(self):\n",
    "        if self.coefficients is None:\n",
    "            raise ValueError(\"The model has not been fitted yet.\")\n",
    "        \n",
    "        # Degrees of freedom\n",
    "        self.df_regression = len(self.coefficients) - 1  # Exclude intercept\n",
    "        self.df_error = len(self.X) - len(self.coefficients)  # Residuals degrees of freedom\n",
    "        df_total = len(self.X) - 1\n",
    "        \n",
    "        # Mean squares\n",
    "        MSR = self.SSR / self.df_regression\n",
    "        MSE = self.SSE / self.df_error\n",
    "        \n",
    "        # F-statistic\n",
    "        self.F_stat = MSR / MSE\n",
    "        \n",
    "        # Assemble the ANOVA table\n",
    "        anova_data = {\n",
    "            'Source': ['Regression', 'Error', 'Total'],\n",
    "            'Sum of Squares': [self.SSR, self.SSE, self.SST],\n",
    "            'Degrees of Freedom': [self.df_regression, self.df_error, df_total],\n",
    "            'Mean Square': [MSR, MSE, \"\"],\n",
    "            'F-Statistic': [self.F_stat, \"\", \"\"]\n",
    "        }\n",
    "        \n",
    "        return pd.DataFrame(anova_data)\n",
    "    \n",
    "    def hypothesis_test(self, alpha=0.05):\n",
    "        \"\"\"\n",
    "        Perform a manual F-test for overall model significance.\n",
    "        No use of scipy.stats. Uses an internal critical F-value table.\n",
    "        \"\"\"\n",
    "\n",
    "        if not hasattr(self, 'SSR') or not hasattr(self, 'SSE'):\n",
    "            raise ValueError(\"Model must be fitted before hypothesis testing.\")\n",
    "\n",
    "        # Mean squares\n",
    "        MSR = self.SSR / self.df_regression\n",
    "        MSE = self.SSE / self.df_error\n",
    "\n",
    "        # Compute F-statistic\n",
    "        self.F_stat = MSR / MSE\n",
    "\n",
    "        # Approximate F-critical values for alpha=0.05\n",
    "        f_table_95 = {\n",
    "            (1, 10): 4.96, (1, 20): 4.35, (1, 30): 4.17, (1, 60): 4.00,\n",
    "            (2, 10): 4.10, (2, 20): 3.49, (2, 30): 3.32, (2, 60): 3.15,\n",
    "            (3, 10): 3.71, (3, 20): 3.10, (3, 30): 2.92, (3, 60): 2.76,\n",
    "            (5, 30): 2.53, (5, 60): 2.39, (10, 60): 2.18\n",
    "        }\n",
    "\n",
    "        key = (self.df_regression, self.df_error)\n",
    "        # Find the closest key if exact df pair isn't available\n",
    "        closest_key = min(f_table_95.keys(), key=lambda k: abs(k[0] - self.df_regression) + abs(k[1] - self.df_error))\n",
    "        F_critical = f_table_95[closest_key]\n",
    "\n",
    "        # Print results\n",
    "        print(f\"F-statistic: {self.F_stat:.3f}\")\n",
    "        print(f\"Critical F-value (approx for alpha={alpha}): {F_critical:.3f} [df1={closest_key[0]}, df2={closest_key[1]}]\")\n",
    "\n",
    "        if self.F_stat > F_critical:\n",
    "            print(\"✅ Reject H0: There is a significant relationship between features and target.\")\n",
    "        else:\n",
    "            print(\"❌ Fail to reject H0: No significant relationship detected.\")\n",
    "\n",
    "\n",
    "\n",
    "    def interval_estimation(self, alpha=0.05, sigma=None):\n",
    "        \"\"\"\n",
    "        Manually compute confidence intervals for regression coefficients,\n",
    "        using approximate t-critical values without scipy.stats.\n",
    "        \"\"\"\n",
    "\n",
    "        if sigma is None:\n",
    "            sigma = np.sqrt(self.MSE)  # Estimate residual standard deviation\n",
    "\n",
    "        X_b = np.hstack([np.ones((self.X.shape[0], 1)), self.X])\n",
    "        XtX_inv = np.linalg.inv(X_b.T @ X_b)\n",
    "        var_beta = XtX_inv * self.MSE\n",
    "\n",
    "        # Approximate t-critical values for alpha=0.05 (95% CI)\n",
    "        t_table_95 = {\n",
    "            1: 12.71, 2: 4.30, 3: 3.18, 4: 2.78, 5: 2.57, 6: 2.45, 7: 2.36,\n",
    "            8: 2.31, 9: 2.26, 10: 2.23, 11: 2.20, 12: 2.18, 13: 2.16,\n",
    "            14: 2.14, 15: 2.13, 20: 2.09, 25: 2.06, 30: 2.04, 40: 2.02,\n",
    "            60: 2.00, 120: 1.98, 1000: 1.96  # Approaches normal Z=1.96\n",
    "        }\n",
    "\n",
    "        # Find closest df in table\n",
    "        df = self.df_error\n",
    "        closest_df = min(t_table_95.keys(), key=lambda x: abs(x - df))\n",
    "        t_critical = t_table_95[closest_df]\n",
    "\n",
    "        # Compute confidence intervals\n",
    "        intervals = []\n",
    "        for i, coef in enumerate(self.coefficients):\n",
    "            se = np.sqrt(var_beta[i, i])  # Standard error\n",
    "            margin = t_critical * se\n",
    "            lower = coef - margin\n",
    "            upper = coef + margin\n",
    "            intervals.append((lower, upper))\n",
    "\n",
    "        return pd.DataFrame(\n",
    "            intervals,\n",
    "            columns=[\"Lower Bound\", \"Upper Bound\"],\n",
    "            index=[\"Intercept\"] + [f\"X{i}\" for i in range(1, self.X.shape[1] + 1)]\n",
    "        )\n",
    "\n"
   ]
  },
  {
   "cell_type": "code",
   "execution_count": 71,
   "id": "a8f4474b",
   "metadata": {},
   "outputs": [
    {
     "data": {
      "text/html": [
       "<div>\n",
       "<style scoped>\n",
       "    .dataframe tbody tr th:only-of-type {\n",
       "        vertical-align: middle;\n",
       "    }\n",
       "\n",
       "    .dataframe tbody tr th {\n",
       "        vertical-align: top;\n",
       "    }\n",
       "\n",
       "    .dataframe thead th {\n",
       "        text-align: right;\n",
       "    }\n",
       "</style>\n",
       "<table border=\"1\" class=\"dataframe\">\n",
       "  <thead>\n",
       "    <tr style=\"text-align: right;\">\n",
       "      <th></th>\n",
       "      <th>Hours Studied</th>\n",
       "      <th>Previous Scores</th>\n",
       "      <th>Extracurricular Activities</th>\n",
       "      <th>Sleep Hours</th>\n",
       "      <th>Sample Question Papers Practiced</th>\n",
       "      <th>Performance Index</th>\n",
       "    </tr>\n",
       "  </thead>\n",
       "  <tbody>\n",
       "    <tr>\n",
       "      <th>0</th>\n",
       "      <td>7</td>\n",
       "      <td>99</td>\n",
       "      <td>Yes</td>\n",
       "      <td>9</td>\n",
       "      <td>1</td>\n",
       "      <td>91.0</td>\n",
       "    </tr>\n",
       "    <tr>\n",
       "      <th>1</th>\n",
       "      <td>4</td>\n",
       "      <td>82</td>\n",
       "      <td>No</td>\n",
       "      <td>4</td>\n",
       "      <td>2</td>\n",
       "      <td>65.0</td>\n",
       "    </tr>\n",
       "    <tr>\n",
       "      <th>2</th>\n",
       "      <td>8</td>\n",
       "      <td>51</td>\n",
       "      <td>Yes</td>\n",
       "      <td>7</td>\n",
       "      <td>2</td>\n",
       "      <td>45.0</td>\n",
       "    </tr>\n",
       "    <tr>\n",
       "      <th>3</th>\n",
       "      <td>5</td>\n",
       "      <td>52</td>\n",
       "      <td>Yes</td>\n",
       "      <td>5</td>\n",
       "      <td>2</td>\n",
       "      <td>36.0</td>\n",
       "    </tr>\n",
       "    <tr>\n",
       "      <th>4</th>\n",
       "      <td>7</td>\n",
       "      <td>75</td>\n",
       "      <td>No</td>\n",
       "      <td>8</td>\n",
       "      <td>5</td>\n",
       "      <td>66.0</td>\n",
       "    </tr>\n",
       "  </tbody>\n",
       "</table>\n",
       "</div>"
      ],
      "text/plain": [
       "   Hours Studied  Previous Scores Extracurricular Activities  Sleep Hours  \\\n",
       "0              7               99                        Yes            9   \n",
       "1              4               82                         No            4   \n",
       "2              8               51                        Yes            7   \n",
       "3              5               52                        Yes            5   \n",
       "4              7               75                         No            8   \n",
       "\n",
       "   Sample Question Papers Practiced  Performance Index  \n",
       "0                                 1               91.0  \n",
       "1                                 2               65.0  \n",
       "2                                 2               45.0  \n",
       "3                                 2               36.0  \n",
       "4                                 5               66.0  "
      ]
     },
     "execution_count": 71,
     "metadata": {},
     "output_type": "execute_result"
    }
   ],
   "source": [
    "df = pd.read_csv(\"D:/FCDS/Regression Analysis/Sections/DataSets/Student_Performance.csv\")\n",
    "df.head()"
   ]
  },
  {
   "cell_type": "code",
   "execution_count": 72,
   "id": "6c8f23ea",
   "metadata": {},
   "outputs": [
    {
     "data": {
      "text/plain": [
       "Hours Studied                       0\n",
       "Previous Scores                     0\n",
       "Extracurricular Activities          0\n",
       "Sleep Hours                         0\n",
       "Sample Question Papers Practiced    0\n",
       "Performance Index                   0\n",
       "dtype: int64"
      ]
     },
     "execution_count": 72,
     "metadata": {},
     "output_type": "execute_result"
    }
   ],
   "source": [
    "df.isnull().sum()"
   ]
  },
  {
   "cell_type": "code",
   "execution_count": 73,
   "id": "1434d310",
   "metadata": {},
   "outputs": [
    {
     "name": "stdout",
     "output_type": "stream",
     "text": [
      "127\n"
     ]
    }
   ],
   "source": [
    "print(df.duplicated().sum())"
   ]
  },
  {
   "cell_type": "code",
   "execution_count": 74,
   "id": "5ea67ede",
   "metadata": {},
   "outputs": [
    {
     "name": "stdout",
     "output_type": "stream",
     "text": [
      "      Hours Studied  Previous Scores Extracurricular Activities  Sleep Hours  \\\n",
      "6975              1               41                         No            7   \n",
      "9966              1               41                         No            7   \n",
      "2225              1               42                        Yes            9   \n",
      "4986              1               42                        Yes            9   \n",
      "2647              1               57                         No            8   \n",
      "...             ...              ...                        ...          ...   \n",
      "8118              9               86                        Yes            6   \n",
      "3482              9               87                         No            7   \n",
      "4261              9               87                         No            7   \n",
      "8214              9               87                         No            7   \n",
      "9379              9               87                         No            7   \n",
      "\n",
      "      Sample Question Papers Practiced  Performance Index  \n",
      "6975                                 3               12.0  \n",
      "9966                                 3               12.0  \n",
      "2225                                 7               17.0  \n",
      "4986                                 7               17.0  \n",
      "2647                                 0               31.0  \n",
      "...                                ...                ...  \n",
      "8118                                 9               83.0  \n",
      "3482                                 3               88.0  \n",
      "4261                                 3               88.0  \n",
      "8214                                 9               86.0  \n",
      "9379                                 9               86.0  \n",
      "\n",
      "[253 rows x 6 columns]\n"
     ]
    }
   ],
   "source": [
    "duplicate_rows = df[df.duplicated(keep=False)]  # Show all duplicates\n",
    "print(duplicate_rows.sort_values(by=list(df.columns)))  # Group duplicates together"
   ]
  },
  {
   "cell_type": "code",
   "execution_count": 75,
   "id": "5d86849d",
   "metadata": {},
   "outputs": [],
   "source": [
    "df.sort_values('Performance Index', ascending=False, inplace=True)\n",
    "df.drop_duplicates(inplace=True)"
   ]
  },
  {
   "cell_type": "code",
   "execution_count": 76,
   "id": "94806b61",
   "metadata": {},
   "outputs": [],
   "source": [
    "df['Extracurricular Activities'] = df['Extracurricular Activities'].map({'Yes': 1, 'No': 0})"
   ]
  },
  {
   "cell_type": "code",
   "execution_count": 77,
   "id": "56447fad",
   "metadata": {},
   "outputs": [
    {
     "data": {
      "text/html": [
       "<div>\n",
       "<style scoped>\n",
       "    .dataframe tbody tr th:only-of-type {\n",
       "        vertical-align: middle;\n",
       "    }\n",
       "\n",
       "    .dataframe tbody tr th {\n",
       "        vertical-align: top;\n",
       "    }\n",
       "\n",
       "    .dataframe thead th {\n",
       "        text-align: right;\n",
       "    }\n",
       "</style>\n",
       "<table border=\"1\" class=\"dataframe\">\n",
       "  <thead>\n",
       "    <tr style=\"text-align: right;\">\n",
       "      <th></th>\n",
       "      <th>Hours Studied</th>\n",
       "      <th>Previous Scores</th>\n",
       "      <th>Extracurricular Activities</th>\n",
       "      <th>Sleep Hours</th>\n",
       "      <th>Sample Question Papers Practiced</th>\n",
       "      <th>Performance Index</th>\n",
       "    </tr>\n",
       "  </thead>\n",
       "  <tbody>\n",
       "    <tr>\n",
       "      <th>2725</th>\n",
       "      <td>9</td>\n",
       "      <td>99</td>\n",
       "      <td>1</td>\n",
       "      <td>8</td>\n",
       "      <td>8</td>\n",
       "      <td>100.0</td>\n",
       "    </tr>\n",
       "    <tr>\n",
       "      <th>2070</th>\n",
       "      <td>9</td>\n",
       "      <td>98</td>\n",
       "      <td>1</td>\n",
       "      <td>4</td>\n",
       "      <td>5</td>\n",
       "      <td>100.0</td>\n",
       "    </tr>\n",
       "    <tr>\n",
       "      <th>145</th>\n",
       "      <td>9</td>\n",
       "      <td>98</td>\n",
       "      <td>1</td>\n",
       "      <td>7</td>\n",
       "      <td>7</td>\n",
       "      <td>100.0</td>\n",
       "    </tr>\n",
       "    <tr>\n",
       "      <th>2637</th>\n",
       "      <td>9</td>\n",
       "      <td>99</td>\n",
       "      <td>0</td>\n",
       "      <td>9</td>\n",
       "      <td>4</td>\n",
       "      <td>99.0</td>\n",
       "    </tr>\n",
       "    <tr>\n",
       "      <th>1157</th>\n",
       "      <td>8</td>\n",
       "      <td>99</td>\n",
       "      <td>1</td>\n",
       "      <td>8</td>\n",
       "      <td>9</td>\n",
       "      <td>99.0</td>\n",
       "    </tr>\n",
       "  </tbody>\n",
       "</table>\n",
       "</div>"
      ],
      "text/plain": [
       "      Hours Studied  Previous Scores  Extracurricular Activities  Sleep Hours  \\\n",
       "2725              9               99                           1            8   \n",
       "2070              9               98                           1            4   \n",
       "145               9               98                           1            7   \n",
       "2637              9               99                           0            9   \n",
       "1157              8               99                           1            8   \n",
       "\n",
       "      Sample Question Papers Practiced  Performance Index  \n",
       "2725                                 8              100.0  \n",
       "2070                                 5              100.0  \n",
       "145                                  7              100.0  \n",
       "2637                                 4               99.0  \n",
       "1157                                 9               99.0  "
      ]
     },
     "execution_count": 77,
     "metadata": {},
     "output_type": "execute_result"
    }
   ],
   "source": [
    "df.head()"
   ]
  },
  {
   "cell_type": "code",
   "execution_count": 78,
   "id": "1d69a513",
   "metadata": {},
   "outputs": [],
   "source": [
    "# Split the data into features (X) and target (y)\n",
    "X = df[['Hours Studied', 'Previous Scores', 'Extracurricular Activities', 'Sleep Hours', 'Sample Question Papers Practiced']]\n",
    "y = df['Performance Index']"
   ]
  },
  {
   "cell_type": "code",
   "execution_count": 79,
   "id": "b3647bba",
   "metadata": {},
   "outputs": [],
   "source": [
    "from sklearn.model_selection import train_test_split\n",
    "\n",
    "# Split the data (80% training, 20% testing)\n",
    "X_train, X_test, y_train, y_test = train_test_split(X, y, test_size=0.2, random_state=42)\n"
   ]
  },
  {
   "cell_type": "code",
   "execution_count": 80,
   "id": "0a20ff28",
   "metadata": {},
   "outputs": [],
   "source": [
    "X_train = X_train.to_numpy()\n",
    "X_test = X_test.to_numpy()\n",
    "y_train = y_train.to_numpy()\n",
    "y_test = y_test.to_numpy()"
   ]
  },
  {
   "cell_type": "code",
   "execution_count": 81,
   "id": "e878c0cb",
   "metadata": {},
   "outputs": [],
   "source": [
    "from sklearn.preprocessing import StandardScaler\n",
    "\n",
    "scaler = StandardScaler()\n",
    "X_train = scaler.fit_transform(X_train)\n",
    "X_test = scaler.transform(X_test)\n"
   ]
  },
  {
   "cell_type": "code",
   "execution_count": 82,
   "id": "36004fd9",
   "metadata": {},
   "outputs": [],
   "source": [
    "model = MultipleLinearRegression() \n",
    "model.fit(X_train, y_train)"
   ]
  },
  {
   "cell_type": "code",
   "execution_count": 83,
   "id": "e0254133",
   "metadata": {},
   "outputs": [
    {
     "name": "stdout",
     "output_type": "stream",
     "text": [
      "Model Coefficients (intercept + slopes): [54.1401141   7.21534894 17.30825107  0.29834689  0.8102709   0.56287707]\n"
     ]
    }
   ],
   "source": [
    "print(f\"Model Coefficients (intercept + slopes): {model.coefficients}\")"
   ]
  },
  {
   "cell_type": "code",
   "execution_count": 84,
   "id": "b0649559",
   "metadata": {},
   "outputs": [
    {
     "name": "stdout",
     "output_type": "stream",
     "text": [
      "Predicted values: [48.65453896 91.01084662 26.55777014 ... 53.79902982 49.73694356\n",
      " 52.01776169]\n"
     ]
    }
   ],
   "source": [
    "y_pred = model.predict(X_test)\n",
    "print(f\"Predicted values: {y_pred}\")"
   ]
  },
  {
   "cell_type": "code",
   "execution_count": 85,
   "id": "f1493306",
   "metadata": {},
   "outputs": [
    {
     "name": "stdout",
     "output_type": "stream",
     "text": [
      "      Actual  Predicted\n",
      "0       48.0  48.654539\n",
      "1       93.0  91.010847\n",
      "2       27.0  26.557770\n",
      "3       57.0  54.835353\n",
      "4       73.0  70.730879\n",
      "...      ...        ...\n",
      "1970    32.0  28.537425\n",
      "1971    67.0  64.183217\n",
      "1972    53.0  53.799030\n",
      "1973    48.0  49.736944\n",
      "1974    54.0  52.017762\n",
      "\n",
      "[1975 rows x 2 columns]\n"
     ]
    }
   ],
   "source": [
    "comparison = pd.DataFrame({'Actual': y_test, 'Predicted': y_pred})\n",
    "print(comparison)"
   ]
  },
  {
   "cell_type": "code",
   "execution_count": 86,
   "id": "f6cd8ec3",
   "metadata": {},
   "outputs": [
    {
     "data": {
      "image/png": "[encoded data removed]",
      "text/plain": [
       "<Figure size 640x480 with 1 Axes>"
      ]
     },
     "metadata": {},
     "output_type": "display_data"
    }
   ],
   "source": [
    "model.plot(X, y)"
   ]
  },
  {
   "cell_type": "code",
   "execution_count": 87,
   "id": "663abf80",
   "metadata": {},
   "outputs": [
    {
     "name": "stdout",
     "output_type": "stream",
     "text": [
      "       Source  Sum of Squares  Degrees of Freedom    Mean Square  \\\n",
      "0  Regression    2.776644e+06                   5  555328.741571   \n",
      "1       Error    4.199052e+04                7892       5.320644   \n",
      "2       Total    2.908263e+06                7897                  \n",
      "\n",
      "     F-Statistic  \n",
      "0  104372.475612  \n",
      "1                 \n",
      "2                 \n"
     ]
    }
   ],
   "source": [
    "anova_table = model.anova_table()\n",
    "print(anova_table)"
   ]
  },
  {
   "cell_type": "code",
   "execution_count": 88,
   "id": "7209bfb2",
   "metadata": {},
   "outputs": [
    {
     "name": "stdout",
     "output_type": "stream",
     "text": [
      "F-statistic: 104372.476\n",
      "Critical F-value (approx for alpha=0.05): 2.390 [df1=5, df2=60]\n",
      "✅ Reject H0: There is a significant relationship between features and target.\n"
     ]
    }
   ],
   "source": [
    "model.hypothesis_test(alpha=0.05)"
   ]
  },
  {
   "cell_type": "code",
   "execution_count": 89,
   "id": "d5022512",
   "metadata": {},
   "outputs": [
    {
     "name": "stdout",
     "output_type": "stream",
     "text": [
      "Confidence Intervals for Coefficients:\n",
      "           Lower Bound  Upper Bound\n",
      "Intercept    54.089242    54.190986\n",
      "X1            7.164463     7.266235\n",
      "X2           17.257371    17.359131\n",
      "X3            0.247462     0.349232\n",
      "X4            0.759387     0.861155\n",
      "X5            0.511991     0.613763\n"
     ]
    }
   ],
   "source": [
    "intervals = model.interval_estimation(alpha=0.05)\n",
    "print(\"Confidence Intervals for Coefficients:\")\n",
    "print(intervals)"
   ]
  },
  {
   "cell_type": "code",
   "execution_count": null,
   "id": "fbc5b046",
   "metadata": {},
   "outputs": [],
   "source": []
  }
 ],
 "metadata": {
  "kernelspec": {
   "display_name": "Python 3",
   "language": "python",
   "name": "python3"
  },
  "language_info": {
   "codemirror_mode": {
    "name": "ipython",
    "version": 3
   },
   "file_extension": ".py",
   "mimetype": "text/x-python",
   "name": "python",
   "nbconvert_exporter": "python",
   "pygments_lexer": "ipython3",
   "version": "3.12.0"
  }
 },
 "nbformat": 4,
 "nbformat_minor": 5
}
