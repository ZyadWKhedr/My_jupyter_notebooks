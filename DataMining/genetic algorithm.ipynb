{
 "cells": [
  {
   "cell_type": "code",
   "execution_count": 1,
   "id": "a4e8c0ed",
   "metadata": {},
   "outputs": [],
   "source": [
    "import random "
   ]
  },
  {
   "cell_type": "code",
   "execution_count": 2,
   "id": "5928fb10",
   "metadata": {},
   "outputs": [
    {
     "name": "stdout",
     "output_type": "stream",
     "text": [
      "Available items:\n",
      " [[1, 2], [2, 4], [3, 4], [4, 5], [5, 7], [6, 9]]\n"
     ]
    }
   ],
   "source": [
    "items = [\n",
    "\t\t[1, 2],\n",
    "\t\t[2, 4],\n",
    "\t\t[3, 4],\n",
    "\t\t[4, 5],\n",
    "\t\t[5, 7],\n",
    "\t\t[6, 9]\n",
    "\t]\n",
    "\n",
    "print(\"Available items:\\n\", items)"
   ]
  },
  {
   "cell_type": "code",
   "execution_count": 3,
   "id": "0b201d60",
   "metadata": {},
   "outputs": [
    {
     "name": "stdout",
     "output_type": "stream",
     "text": [
      "\n",
      "Genetic algorithm parameters:\n",
      "-----------------------------------------\n",
      "Max weight: 10\n",
      "Population: 10\n",
      "Mutation probability: 0.2\n",
      "Generations: 10 \n",
      "\n"
     ]
    }
   ],
   "source": [
    "max_weight = 10\n",
    "population_size = 10\n",
    "generations = 10\n",
    "mutation_probability = 0.2\n",
    "\n",
    "print(\"\\nGenetic algorithm parameters:\")\n",
    "print(\"-----------------------------------------\")\n",
    "print(\"Max weight:\", max_weight)\n",
    "print(\"Population:\", population_size)\n",
    "print(\"Mutation probability:\", mutation_probability)\n",
    "print(\"Generations:\", generations, \"\\n\")"
   ]
  },
  {
   "cell_type": "code",
   "execution_count": 4,
   "id": "ce2ab447",
   "metadata": {},
   "outputs": [],
   "source": [
    "def create_individual():\n",
    "    return [random.randint(0,1) for _ in range (len(items))]"
   ]
  },
  {
   "cell_type": "code",
   "execution_count": 5,
   "id": "2b0ec4c5",
   "metadata": {},
   "outputs": [],
   "source": [
    "def fitness(individual):\n",
    "    total_weight = sum(items[i][0] * individual[i] for i in range(len(items)))\n",
    "    total_value = sum(items[i][1] * individual[i] for i in range(len(items)))\n",
    "\n",
    "    if total_weight > max_weight:\n",
    "        return 0\n",
    "    return total_value"
   ]
  },
  {
   "cell_type": "code",
   "execution_count": 6,
   "id": "3c694d6d",
   "metadata": {},
   "outputs": [],
   "source": [
    "def select_parent(population):\n",
    "    tournament = random.sample(population,3)\n",
    "    return max(tournament, key= fitness)"
   ]
  },
  {
   "cell_type": "code",
   "execution_count": 7,
   "id": "f99c2928",
   "metadata": {},
   "outputs": [],
   "source": [
    "def crossover(parent1,parent2):\n",
    "    point = random.randint(1,len(items) -1)\n",
    "    child = parent1[:point] + parent2[point:]\n",
    "    return child"
   ]
  },
  {
   "cell_type": "code",
   "execution_count": 8,
   "id": "625e34c6",
   "metadata": {},
   "outputs": [],
   "source": [
    "def mutate(individual):\n",
    "    for i in range (len(individual)):\n",
    "        if random.random() < mutation_probability:\n",
    "            individual[i] = 1 - individual[i]  # Flips 0→1 or 1→0\n",
    "    return individual"
   ]
  },
  {
   "cell_type": "code",
   "execution_count": 9,
   "id": "54a3e6f5",
   "metadata": {},
   "outputs": [],
   "source": [
    "def genetic_algorithm():\n",
    "    # Initialize population\n",
    "    population = [create_individual() for _ in range(population_size)]\n",
    "\n",
    "    for generation in range(generations):\n",
    "        # Evaluate and sort population\n",
    "        population = sorted(population, key=lambda x: fitness(x), reverse=True)\n",
    "\n",
    "        # Print best chromosome in current generation\n",
    "        best = population[0]\n",
    "        best_fitness = fitness(best)\n",
    "        print(f\"Generation {generation + 1}:\")\n",
    "        print(f\"Best Chromosome: {best}\")\n",
    "        print(f\"Fitness (Total Value): {best_fitness}\")\n",
    "        print(\"------\")\n",
    "\n",
    "        # Create new generation\n",
    "        new_population = []\n",
    "        for _ in range(population_size):\n",
    "            parent1 = select_parent(population)\n",
    "            parent2 = select_parent(population)\n",
    "            child = crossover(parent1, parent2)\n",
    "            child = mutate(child)\n",
    "            new_population.append(child)\n",
    "        population = new_population\n",
    "\n",
    "    # Get final best solution\n",
    "    best = max(population, key=lambda x: fitness(x))\n",
    "    selected_items = [i + 1 for i in range(len(items)) if best[i]]\n",
    "    total_value = fitness(best)\n",
    "    total_weight = sum(items[i][0] * best[i] for i in range(len(items)))\n",
    "\n",
    "    print(\"\\nFinal Solution:\")\n",
    "    print(f\"Best Chromosome: {best}\")\n",
    "    print(f\"Selected Items: {selected_items}\")\n",
    "    print(f\"Total Value: {total_value}\")\n",
    "    print(f\"Total Weight: {total_weight}\")"
   ]
  },
  {
   "cell_type": "code",
   "execution_count": 10,
   "id": "99f3eb6f",
   "metadata": {},
   "outputs": [
    {
     "name": "stdout",
     "output_type": "stream",
     "text": [
      "Generation 1:\n",
      "Best Chromosome: [0, 0, 0, 1, 1, 0]\n",
      "Fitness (Total Value): 12\n",
      "------\n",
      "Generation 2:\n",
      "Best Chromosome: [1, 0, 0, 0, 0, 1]\n",
      "Fitness (Total Value): 11\n",
      "------\n",
      "Generation 3:\n",
      "Best Chromosome: [1, 1, 0, 0, 0, 1]\n",
      "Fitness (Total Value): 15\n",
      "------\n",
      "Generation 4:\n",
      "Best Chromosome: [0, 1, 1, 1, 0, 0]\n",
      "Fitness (Total Value): 13\n",
      "------\n",
      "Generation 5:\n",
      "Best Chromosome: [1, 1, 1, 1, 0, 0]\n",
      "Fitness (Total Value): 15\n",
      "------\n",
      "Generation 6:\n",
      "Best Chromosome: [1, 0, 1, 0, 0, 0]\n",
      "Fitness (Total Value): 6\n",
      "------\n",
      "Generation 7:\n",
      "Best Chromosome: [1, 0, 1, 0, 0, 1]\n",
      "Fitness (Total Value): 15\n",
      "------\n",
      "Generation 8:\n",
      "Best Chromosome: [1, 1, 0, 0, 0, 1]\n",
      "Fitness (Total Value): 15\n",
      "------\n",
      "Generation 9:\n",
      "Best Chromosome: [1, 1, 0, 0, 0, 1]\n",
      "Fitness (Total Value): 15\n",
      "------\n",
      "Generation 10:\n",
      "Best Chromosome: [1, 1, 0, 0, 0, 1]\n",
      "Fitness (Total Value): 15\n",
      "------\n",
      "\n",
      "Final Solution:\n",
      "Best Chromosome: [1, 1, 0, 0, 0, 1]\n",
      "Selected Items: [1, 2, 6]\n",
      "Total Value: 15\n",
      "Total Weight: 9\n"
     ]
    }
   ],
   "source": [
    "genetic_algorithm()"
   ]
  },
  {
   "cell_type": "code",
   "execution_count": null,
   "id": "7ba4b2d6",
   "metadata": {},
   "outputs": [],
   "source": []
  }
 ],
 "metadata": {
  "kernelspec": {
   "display_name": "Python 3",
   "language": "python",
   "name": "python3"
  },
  "language_info": {
   "codemirror_mode": {
    "name": "ipython",
    "version": 3
   },
   "file_extension": ".py",
   "mimetype": "text/x-python",
   "name": "python",
   "nbconvert_exporter": "python",
   "pygments_lexer": "ipython3",
   "version": "3.11.0"
  }
 },
 "nbformat": 4,
 "nbformat_minor": 5
}
