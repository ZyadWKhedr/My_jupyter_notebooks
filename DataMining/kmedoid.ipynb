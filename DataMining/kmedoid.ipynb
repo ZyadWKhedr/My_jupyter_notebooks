{
 "cells": [
  {
   "cell_type": "code",
   "execution_count": 1,
   "id": "c8dfc389",
   "metadata": {},
   "outputs": [],
   "source": [
    "import pandas as pd\n",
    "from sklearn_extra.cluster import KMedoids\n",
    "import numpy as np"
   ]
  },
  {
   "cell_type": "code",
   "execution_count": 2,
   "id": "37cc82dd",
   "metadata": {},
   "outputs": [
    {
     "name": "stdout",
     "output_type": "stream",
     "text": [
      "[[2, 6], [3, 8], [None, 7], [6, 2], [6, 4], [7], [7, 4], [8, 5], [7, 4], [3, 4]]\n"
     ]
    }
   ],
   "source": [
    "list = [[2,6],[3,8],[None,7], [6,2], [6,4],[7,],[7,4],[8,5],[7,4], [3,4]]\n",
    "print(list)"
   ]
  },
  {
   "cell_type": "code",
   "execution_count": 3,
   "id": "f725225d",
   "metadata": {},
   "outputs": [],
   "source": [
    "df = pd.DataFrame(list)"
   ]
  },
  {
   "cell_type": "code",
   "execution_count": 4,
   "id": "4a904a49",
   "metadata": {},
   "outputs": [],
   "source": [
    "df.columns = ['x', 'y']"
   ]
  },
  {
   "cell_type": "code",
   "execution_count": 5,
   "id": "de497ef4",
   "metadata": {},
   "outputs": [],
   "source": [
    "df.to_csv('C:/Users/Elzoz/Desktop/output.csv', index=False)"
   ]
  },
  {
   "cell_type": "code",
   "execution_count": 6,
   "id": "6b84eced",
   "metadata": {},
   "outputs": [],
   "source": [
    "df.fillna(df['y'].mode()[0], inplace= True)\n",
    "df.fillna(df['x'].mode()[0], inplace= True)\n"
   ]
  },
  {
   "cell_type": "code",
   "execution_count": 7,
   "id": "3db632a4",
   "metadata": {},
   "outputs": [
    {
     "data": {
      "text/html": [
       "<div>\n",
       "<style scoped>\n",
       "    .dataframe tbody tr th:only-of-type {\n",
       "        vertical-align: middle;\n",
       "    }\n",
       "\n",
       "    .dataframe tbody tr th {\n",
       "        vertical-align: top;\n",
       "    }\n",
       "\n",
       "    .dataframe thead th {\n",
       "        text-align: right;\n",
       "    }\n",
       "</style>\n",
       "<table border=\"1\" class=\"dataframe\">\n",
       "  <thead>\n",
       "    <tr style=\"text-align: right;\">\n",
       "      <th></th>\n",
       "      <th>x</th>\n",
       "      <th>y</th>\n",
       "    </tr>\n",
       "  </thead>\n",
       "  <tbody>\n",
       "    <tr>\n",
       "      <th>0</th>\n",
       "      <td>2.0</td>\n",
       "      <td>6.0</td>\n",
       "    </tr>\n",
       "    <tr>\n",
       "      <th>1</th>\n",
       "      <td>3.0</td>\n",
       "      <td>8.0</td>\n",
       "    </tr>\n",
       "    <tr>\n",
       "      <th>2</th>\n",
       "      <td>4.0</td>\n",
       "      <td>7.0</td>\n",
       "    </tr>\n",
       "    <tr>\n",
       "      <th>3</th>\n",
       "      <td>6.0</td>\n",
       "      <td>2.0</td>\n",
       "    </tr>\n",
       "    <tr>\n",
       "      <th>4</th>\n",
       "      <td>6.0</td>\n",
       "      <td>4.0</td>\n",
       "    </tr>\n",
       "    <tr>\n",
       "      <th>5</th>\n",
       "      <td>7.0</td>\n",
       "      <td>4.0</td>\n",
       "    </tr>\n",
       "    <tr>\n",
       "      <th>6</th>\n",
       "      <td>7.0</td>\n",
       "      <td>4.0</td>\n",
       "    </tr>\n",
       "    <tr>\n",
       "      <th>7</th>\n",
       "      <td>8.0</td>\n",
       "      <td>5.0</td>\n",
       "    </tr>\n",
       "    <tr>\n",
       "      <th>8</th>\n",
       "      <td>7.0</td>\n",
       "      <td>4.0</td>\n",
       "    </tr>\n",
       "    <tr>\n",
       "      <th>9</th>\n",
       "      <td>3.0</td>\n",
       "      <td>4.0</td>\n",
       "    </tr>\n",
       "  </tbody>\n",
       "</table>\n",
       "</div>"
      ],
      "text/plain": [
       "     x    y\n",
       "0  2.0  6.0\n",
       "1  3.0  8.0\n",
       "2  4.0  7.0\n",
       "3  6.0  2.0\n",
       "4  6.0  4.0\n",
       "5  7.0  4.0\n",
       "6  7.0  4.0\n",
       "7  8.0  5.0\n",
       "8  7.0  4.0\n",
       "9  3.0  4.0"
      ]
     },
     "execution_count": 7,
     "metadata": {},
     "output_type": "execute_result"
    }
   ],
   "source": [
    "df"
   ]
  },
  {
   "cell_type": "code",
   "execution_count": 8,
   "id": "b906f4cc",
   "metadata": {},
   "outputs": [],
   "source": [
    "data = np.array(df)"
   ]
  },
  {
   "cell_type": "code",
   "execution_count": 9,
   "id": "56e10f63",
   "metadata": {},
   "outputs": [],
   "source": [
    "k = 2 \n",
    "KMedoids = KMedoids(n_clusters=k).fit(data)\n",
    "clusters = KMedoids.cluster_centers_\n",
    "labels = KMedoids.labels_"
   ]
  },
  {
   "cell_type": "code",
   "execution_count": 10,
   "id": "1d1e20b1",
   "metadata": {},
   "outputs": [
    {
     "data": {
      "text/plain": [
       "array([[2., 6.],\n",
       "       [3., 8.],\n",
       "       [4., 7.],\n",
       "       [6., 2.],\n",
       "       [6., 4.],\n",
       "       [7., 4.],\n",
       "       [7., 4.],\n",
       "       [8., 5.],\n",
       "       [7., 4.],\n",
       "       [3., 4.]])"
      ]
     },
     "execution_count": 10,
     "metadata": {},
     "output_type": "execute_result"
    }
   ],
   "source": [
    "data"
   ]
  },
  {
   "cell_type": "code",
   "execution_count": 11,
   "id": "1a446587",
   "metadata": {},
   "outputs": [
    {
     "data": {
      "text/plain": [
       "array([[2., 6.],\n",
       "       [7., 4.]])"
      ]
     },
     "execution_count": 11,
     "metadata": {},
     "output_type": "execute_result"
    }
   ],
   "source": [
    "clusters"
   ]
  },
  {
   "cell_type": "code",
   "execution_count": 12,
   "id": "5d1651a8",
   "metadata": {},
   "outputs": [
    {
     "name": "stdout",
     "output_type": "stream",
     "text": [
      "cluster 0 : [2. 6.]\n",
      "cluster 0 : [3. 8.]\n",
      "cluster 0 : [4. 7.]\n",
      "cluster 0 : [3. 4.]\n",
      "cluster 1 : [6. 2.]\n",
      "cluster 1 : [6. 4.]\n",
      "cluster 1 : [7. 4.]\n",
      "cluster 1 : [7. 4.]\n",
      "cluster 1 : [8. 5.]\n",
      "cluster 1 : [7. 4.]\n"
     ]
    }
   ],
   "source": [
    "for j in range (k):\n",
    "    for i in range (len(data)):\n",
    "        if (j == labels[i]):\n",
    "            x = data[i]\n",
    "            print('cluster',j,':',x)"
   ]
  },
  {
   "cell_type": "code",
   "execution_count": 13,
   "id": "39872617",
   "metadata": {},
   "outputs": [
    {
     "name": "stdout",
     "output_type": "stream",
     "text": [
      "     X    Y  Cluster\n",
      "0  2.0  6.0        0\n",
      "1  3.0  8.0        0\n",
      "2  4.0  7.0        0\n",
      "3  6.0  2.0        1\n",
      "4  6.0  4.0        1\n",
      "5  7.0  4.0        1\n",
      "6  7.0  4.0        1\n",
      "7  8.0  5.0        1\n",
      "8  7.0  4.0        1\n",
      "9  3.0  4.0        0\n"
     ]
    }
   ],
   "source": [
    "dfff = pd.DataFrame({\n",
    "    'X': [point[0] for point in data],\n",
    "    'Y': [point[1] for point in data],\n",
    "    'Cluster': labels\n",
    "})\n",
    "\n",
    "print(dfff)"
   ]
  }
 ],
 "metadata": {
  "kernelspec": {
   "display_name": "Python 3",
   "language": "python",
   "name": "python3"
  },
  "language_info": {
   "codemirror_mode": {
    "name": "ipython",
    "version": 3
   },
   "file_extension": ".py",
   "mimetype": "text/x-python",
   "name": "python",
   "nbconvert_exporter": "python",
   "pygments_lexer": "ipython3",
   "version": "3.11.0"
  }
 },
 "nbformat": 4,
 "nbformat_minor": 5
}
