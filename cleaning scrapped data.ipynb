{
 "cells": [
  {
   "cell_type": "code",
   "execution_count": 2,
   "id": "63ee0b66",
   "metadata": {},
   "outputs": [],
   "source": [
    "import pandas as pd"
   ]
  },
  {
   "cell_type": "code",
   "execution_count": 3,
   "id": "2713f9d7",
   "metadata": {},
   "outputs": [],
   "source": [
    "df = pd.read_csv('D:/glassdoor_jobs.csv')"
   ]
  },
  {
   "cell_type": "code",
   "execution_count": 4,
   "id": "2c589eab",
   "metadata": {},
   "outputs": [
    {
     "data": {
      "text/plain": [
       "(3750, 4)"
      ]
     },
     "execution_count": 4,
     "metadata": {},
     "output_type": "execute_result"
    }
   ],
   "source": [
    "df.shape"
   ]
  },
  {
   "cell_type": "code",
   "execution_count": 5,
   "id": "d88deb90",
   "metadata": {},
   "outputs": [
    {
     "data": {
      "text/html": [
       "<div>\n",
       "<style scoped>\n",
       "    .dataframe tbody tr th:only-of-type {\n",
       "        vertical-align: middle;\n",
       "    }\n",
       "\n",
       "    .dataframe tbody tr th {\n",
       "        vertical-align: top;\n",
       "    }\n",
       "\n",
       "    .dataframe thead th {\n",
       "        text-align: right;\n",
       "    }\n",
       "</style>\n",
       "<table border=\"1\" class=\"dataframe\">\n",
       "  <thead>\n",
       "    <tr style=\"text-align: right;\">\n",
       "      <th></th>\n",
       "      <th>Job Title</th>\n",
       "      <th>Company</th>\n",
       "      <th>Location</th>\n",
       "      <th>Salary</th>\n",
       "    </tr>\n",
       "  </thead>\n",
       "  <tbody>\n",
       "    <tr>\n",
       "      <th>0</th>\n",
       "      <td>Junior Software Engineer</td>\n",
       "      <td>CommIT Enterprises, Inc</td>\n",
       "      <td>Quantico, VA</td>\n",
       "      <td>$61K - $94K (Glassdoor est.)</td>\n",
       "    </tr>\n",
       "    <tr>\n",
       "      <th>1</th>\n",
       "      <td>Software Engineer, Referrals</td>\n",
       "      <td>Chime</td>\n",
       "      <td>San Francisco, CA</td>\n",
       "      <td>$126K - $175K (Employer est.)</td>\n",
       "    </tr>\n",
       "    <tr>\n",
       "      <th>2</th>\n",
       "      <td>Sr Software Engineer (BE)</td>\n",
       "      <td>Ria Money Transfer</td>\n",
       "      <td>Buena Park, CA</td>\n",
       "      <td>$120K - $150K (Employer est.)</td>\n",
       "    </tr>\n",
       "    <tr>\n",
       "      <th>3</th>\n",
       "      <td>Java Engineer (Junior/Middle) ID32277</td>\n",
       "      <td>AgileEngine</td>\n",
       "      <td>United States</td>\n",
       "      <td>NaN</td>\n",
       "    </tr>\n",
       "    <tr>\n",
       "      <th>4</th>\n",
       "      <td>Software Engineer - Data APIs</td>\n",
       "      <td>EnergyCAP</td>\n",
       "      <td>Boalsburg, PA</td>\n",
       "      <td>$63K - $103K (Glassdoor est.)</td>\n",
       "    </tr>\n",
       "  </tbody>\n",
       "</table>\n",
       "</div>"
      ],
      "text/plain": [
       "                               Job Title                  Company  \\\n",
       "0               Junior Software Engineer  CommIT Enterprises, Inc   \n",
       "1           Software Engineer, Referrals                    Chime   \n",
       "2              Sr Software Engineer (BE)       Ria Money Transfer   \n",
       "3  Java Engineer (Junior/Middle) ID32277              AgileEngine   \n",
       "4          Software Engineer - Data APIs                EnergyCAP   \n",
       "\n",
       "            Location                         Salary  \n",
       "0       Quantico, VA   $61K - $94K (Glassdoor est.)  \n",
       "1  San Francisco, CA  $126K - $175K (Employer est.)  \n",
       "2     Buena Park, CA  $120K - $150K (Employer est.)  \n",
       "3      United States                            NaN  \n",
       "4      Boalsburg, PA  $63K - $103K (Glassdoor est.)  "
      ]
     },
     "execution_count": 5,
     "metadata": {},
     "output_type": "execute_result"
    }
   ],
   "source": [
    "df.head()"
   ]
  },
  {
   "cell_type": "code",
   "execution_count": 6,
   "id": "4a546039",
   "metadata": {},
   "outputs": [
    {
     "name": "stdout",
     "output_type": "stream",
     "text": [
      "Found 3723 duplicate job titles within companies\n",
      "                                 Job Title  Company          Location  \\\n",
      "62                Junior Software Engineer  123.NET  Byron Center, MI   \n",
      "122               Junior Software Engineer  123.NET  Byron Center, MI   \n",
      "212               Junior Software Engineer  123.NET  Byron Center, MI   \n",
      "332               Junior Software Engineer  123.NET  Byron Center, MI   \n",
      "482               Junior Software Engineer  123.NET  Byron Center, MI   \n",
      "...                                    ...      ...               ...   \n",
      "1875  Senior Software Engineer, Team Sites  the NBA      Secaucus, NJ   \n",
      "2205  Senior Software Engineer, Team Sites  the NBA      Secaucus, NJ   \n",
      "2565  Senior Software Engineer, Team Sites  the NBA      Secaucus, NJ   \n",
      "2955  Senior Software Engineer, Team Sites  the NBA      Secaucus, NJ   \n",
      "3375  Senior Software Engineer, Team Sites  the NBA      Secaucus, NJ   \n",
      "\n",
      "                             Salary  \n",
      "62     $60K - $90K (Glassdoor est.)  \n",
      "122    $60K - $90K (Glassdoor est.)  \n",
      "212    $60K - $90K (Glassdoor est.)  \n",
      "332    $60K - $90K (Glassdoor est.)  \n",
      "482    $60K - $90K (Glassdoor est.)  \n",
      "...                             ...  \n",
      "1875  $140K - $165K (Employer est.)  \n",
      "2205  $140K - $165K (Employer est.)  \n",
      "2565  $140K - $165K (Employer est.)  \n",
      "2955  $140K - $165K (Employer est.)  \n",
      "3375  $140K - $165K (Employer est.)  \n",
      "\n",
      "[3723 rows x 4 columns]\n",
      "\n",
      "Duplicate summary:\n",
      "                                      Company  \\\n",
      "0                                     123.NET   \n",
      "1    21st Century Software Technologies, Inc.   \n",
      "2                                    7-ELEVEN   \n",
      "3                                    ADS, Inc   \n",
      "4                         AIPHONE CORPORATION   \n",
      "..                                        ...   \n",
      "405                                  dbt Labs   \n",
      "406                              i3 Verticals   \n",
      "407                                    kraken   \n",
      "408                                        m9   \n",
      "409                                   the NBA   \n",
      "\n",
      "                                Job Title  count  \n",
      "0                Junior Software Engineer     15  \n",
      "1              Graduate Software Engineer      8  \n",
      "2                    Software Engineer II     12  \n",
      "3                       Software Engineer     10  \n",
      "4                    Software Engineer II      2  \n",
      "..                                    ...    ...  \n",
      "405     Staff Software Engineer, Metadata      6  \n",
      "406                     Software Engineer     14  \n",
      "407       Software Engineer II - Frontend      9  \n",
      "408                     Software Engineer     13  \n",
      "409  Senior Software Engineer, Team Sites     14  \n",
      "\n",
      "[410 rows x 3 columns]\n"
     ]
    }
   ],
   "source": [
    "duplicates = df[df.duplicated(['Company', 'Job Title'], keep=False)]\n",
    "\n",
    "# Sort by company and title for better visualization\n",
    "duplicates_sorted = duplicates.sort_values(['Company', 'Job Title'])\n",
    "\n",
    "# Display results\n",
    "print(f\"Found {len(duplicates)} duplicate job titles within companies\")\n",
    "print(duplicates_sorted)\n",
    "\n",
    "# Get summary counts\n",
    "dupe_summary = duplicates.groupby(['Company', 'Job Title']).size().reset_index(name='count')\n",
    "print(\"\\nDuplicate summary:\")\n",
    "print(dupe_summary[dupe_summary['count'] > 1])"
   ]
  },
  {
   "cell_type": "code",
   "execution_count": 7,
   "id": "f60fa68e",
   "metadata": {},
   "outputs": [],
   "source": [
    "df_clean = df.dropna() "
   ]
  },
  {
   "cell_type": "code",
   "execution_count": 9,
   "id": "d14e086b",
   "metadata": {},
   "outputs": [
    {
     "data": {
      "text/plain": [
       "(3255, 4)"
      ]
     },
     "execution_count": 9,
     "metadata": {},
     "output_type": "execute_result"
    }
   ],
   "source": [
    "df_clean.shape"
   ]
  },
  {
   "cell_type": "code",
   "execution_count": 11,
   "id": "64e1739a",
   "metadata": {},
   "outputs": [
    {
     "data": {
      "text/plain": [
       "Job Title    0\n",
       "Company      0\n",
       "Location     0\n",
       "Salary       0\n",
       "dtype: int64"
      ]
     },
     "execution_count": 11,
     "metadata": {},
     "output_type": "execute_result"
    }
   ],
   "source": [
    "df_clean.isna().sum()"
   ]
  },
  {
   "cell_type": "code",
   "execution_count": 12,
   "id": "507d4122",
   "metadata": {},
   "outputs": [],
   "source": [
    "df_clean.to_csv('D:/glassdoor_jobs.csv', index=False)"
   ]
  },
  {
   "cell_type": "code",
   "execution_count": null,
   "id": "cd0da620",
   "metadata": {},
   "outputs": [],
   "source": []
  }
 ],
 "metadata": {
  "kernelspec": {
   "display_name": "Python 3",
   "language": "python",
   "name": "python3"
  },
  "language_info": {
   "codemirror_mode": {
    "name": "ipython",
    "version": 3
   },
   "file_extension": ".py",
   "mimetype": "text/x-python",
   "name": "python",
   "nbconvert_exporter": "python",
   "pygments_lexer": "ipython3",
   "version": "3.12.0"
  }
 },
 "nbformat": 4,
 "nbformat_minor": 5
}
